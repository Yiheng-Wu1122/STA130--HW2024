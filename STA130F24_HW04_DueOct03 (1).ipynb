{
 "cells": [
  {
   "cell_type": "markdown",
   "metadata": {},
   "source": [
    "# STA130 Homework 04 \n",
    "\n",
    "Please see the course [wiki-textbook](https://github.com/pointOfive/stat130chat130/wiki) for the list of topics covered in this homework assignment, and a list of topics that might appear during ChatBot conversations which are \"out of scope\" for the purposes of this homework assignment (and hence can be safely ignored if encountered)"
   ]
  },
  {
   "cell_type": "markdown",
   "metadata": {},
   "source": [
    "<details class=\"details-example\"><summary style=\"color:blue\"><u>Introduction</u></summary>\n",
    "\n",
    "### Introduction\n",
    "\n",
    "A reasonable characterization of STA130 Homework is that it simply defines a weekly reading comprehension assignment. \n",
    "Indeed, STA130 Homework essentially boils down to completing various understanding confirmation exercises oriented around coding and writing tasks.\n",
    "However, rather than reading a textbook, STA130 Homework is based on ChatBots so students can interactively follow up to clarify questions or confusion that they may still have regarding learning objective assignments.\n",
    "\n",
    "> Communication is a fundamental skill underlying statistics and data science, so STA130 Homework based on ChatBots helps practice effective two-way communication as part of a \"realistic\" dialogue activity supporting underlying conceptual understanding building. \n",
    "\n",
    "It will likely become increasingly tempting to rely on ChatBots to \"do the work for you\". But when you find yourself frustrated with a ChatBots inability to give you the results you're looking for, this is a \"hint\" that you've become overreliant on the ChatBots. Your objective should not be to have ChatBots \"do the work for you\", but to use ChatBots to help you build your understanding so you can efficiently leverage ChatBots (and other resources) to help you work more efficiently.<br><br>\n",
    "\n",
    "</details>\n",
    "\n",
    "<details class=\"details-example\"><summary style=\"color:blue\"><u>Instructions</u></summary>\n",
    "\n",
    "### Instructions\n",
    "\n",
    "1. Code and write all your answers (for both the \"Prelecture\" and \"Postlecture\" HW) in a python notebook (in code and markdown cells) \n",
    "    \n",
    "> It is *suggested but not mandatory* that you complete the \"Prelecture\" HW prior to the Monday LEC since (a) all HW is due at the same time; but, (b) completing some of the HW early will mean better readiness for LEC and less of a \"procrastentation cruch\" towards the end of the week...\n",
    "    \n",
    "2. Paste summaries of your ChatBot sessions (including link(s) to chat log histories if you're using ChatGPT) within your notebook\n",
    "    \n",
    "> Create summaries of your ChatBot sessions by using concluding prompts such as \"Please provide a summary of our exchanges here so I can submit them as a record of our interactions as part of a homework assignment\" or, \"Please provide me with the final working verson of the code that we created together\"\n",
    "    \n",
    "3. Save your python jupyter notebook in your own account and \"repo\" on [github.com](github.com) and submit a link to that notebook though Quercus for assignment marking<br><br>\n",
    "\n",
    "</details>\n",
    "\n",
    "<details class=\"details-example\"><summary style=\"color:blue\"><u>Prompt Engineering?</u></summary>\n",
    "\n",
    "### Prompt Engineering? \n",
    "\n",
    "The questions (as copy-pasted prompts) are designed to initialize appropriate ChatBot conversations which can be explored in the manner of an interactive and dynamic textbook; but, it is nonetheless **strongly recommendated** that your rephrase the questions in a way that you find natural to ensure a clear understanding of the question. Given sensible prompts the represent a question well, the two primary challenges observed to arise from ChatBots are \n",
    "\n",
    "1. conversations going beyond the intended scope of the material addressed by the question; and, \n",
    "2. unrecoverable confusion as a result of sequential layers logial inquiry that cannot be resolved. \n",
    "\n",
    "In the case of the former (1), adding constraints specifying the limits of considerations of interest tends to be helpful; whereas, the latter (2) is often the result of initial prompting that leads to poor developments in navigating the material, which are likely just best resolve by a \"hard reset\" with a new initial approach to prompting.  Indeed, this is exactly the behavior [hardcoded into copilot](https://answers.microsoft.com/en-us/bing/forum/all/is-this-even-normal/0b6dcab3-7d6c-4373-8efe-d74158af3c00)...\n",
    "\n",
    "</details>\n",
    "\n",
    "\n"
   ]
  },
  {
   "cell_type": "markdown",
   "metadata": {},
   "source": [
    "### Marking Rubric (which may award partial credit) \n",
    "\n",
    "- [0.1 points]: All relevant ChatBot summaries [including link(s) to chat log histories if you're using ChatGPT] are reported within the notebook\n",
    "- [0.2 points]: Evaluation of correctness and effectiveness of written communication for Question \"1\"\n",
    "<!-- - [0.3 points]: Correctness of understanding confirmed by code comments and relevant ChatBot summaries [including link(s) to chat log histories if you're using ChatGPT] for Question \"4\" -->\n",
    "- [0.3 points]: Evaluation of correctness and effectiveness of written communication for Question \"6\"\n",
    "- [0.4 points]: Evaluation of submission for Question \"8\" "
   ]
  },
  {
   "cell_type": "markdown",
   "metadata": {},
   "source": [
    "## \"Pre-lecture\" HW [*completion prior to next LEC is suggested but not mandatory*]\n",
    "\n",
    "**To prepare for this weeks lecture, first watch this video [introduction to bootstrapping](https://www.youtube.com/watch?v=Xz0x-8-cgaQ)**\n"
   ]
  },
  {
   "cell_type": "code",
   "execution_count": null,
   "metadata": {},
   "outputs": [],
   "source": [
    "from IPython.display import YouTubeVideo\n",
    "YouTubeVideo('Xz0x-8-cgaQ', width=800, height=500)"
   ]
  },
  {
   "cell_type": "markdown",
   "metadata": {},
   "source": [
    "### 1. The \"Pre-lecture\" video (above) mentioned the \"standard error of the mean\" as being the \"standard deviation\" of the distribution bootstrapped means.  What is the difference between the \"standard error of the mean\" and the \"standard deviation\" of the original data? What distinct ideas do each of these capture? Explain this concisely in your own words.<br>\n",
    "\n",
    "<details class=\"details-example\"><summary style=\"color:blue\"><u>Further Guidance</u></summary>\n",
    "\n",
    "> _To answer this question, you could start a ChatBot session and try giving a ChatBot a shot at trying to explain this distinction to you. If you're not sure if you've been able to figure it out out this way, review [this ChatGPT session](https://github.com/pointOfive/stat130chat130/blob/main/CHATLOG/wk4/GPT/SLS/00002_gpt3p5_SEM_vs_SD_Difference.md)._\n",
    "> - _If you discuss this question with a ChatBot, don't forget to ask for summaries of your ChatBot session(s) and paste these into your homework notebook (including link(s) to chat log histories if you're using ChatGPT)._\n",
    "> \n",
    "> _Note that the \"Pre-lecture\" video (above) and the last *Question 5* of The **Week 04 TUT Communication Actvity #2** address the question of \"What is bootstrapping?\", but the question of \"What is the difference between the \"standard error of the mean\" and the \"standard deviation\" of the original data?\" does not really depend on what bootstrapping is._\n",
    "> \n",
    "> _If you were to be interested in answering the question of \"What is bootstrapping?\", probably just asking a ChatBot directly would work. Or even something like \"Explain variability of means, function of sample size, bootstrapping\" or \"How does the variability of means of simulated samples change as a function of sample size? Explain this to me in a simple way using bootstrapping!\" would likely be pretty effective as prompts. ChatBots are not particularly picky about prompts when it comes to addressing very well understood topics (like bootstrapping). That said, the more concise context you provide in your prompt, the more you can guide the relevance and relatability of the responses of a ChatBot in a manner you desire. The \"Further Guidance\" under *Question 5* of **Communication Actvity #2** in TUT is a good example of this._\n",
    "    \n",
    "</details>"
   ]
  },
  {
   "cell_type": "markdown",
   "metadata": {},
   "source": [
    "The concepts of standard deviation and standard error of the mean are both fundamental in statistics, but they serve distinct purposes and capture different aspects of a dataset. While they are related mathematically, their interpretations are quite different, and understanding this distinction is crucial for proper data analysis.\n",
    "\n",
    "Standard deviation refers to the spread or variability of individual data points in a dataset around the mean. It quantifies how much the values in the dataset differ from the average value. A higher standard deviation indicates that the data points are more spread out, meaning the dataset has more significant variability. Conversely, a lower standard deviation means the data points are closer to the mean, implying more consistency among the values. In practical terms, standard deviation helps us understand the range and distribution of the data, giving insight into the overall shape of the dataset. For example, if we measure the heights of a group of people, the standard deviation would tell us how much individual heights deviate from the average height, providing a sense of the diversity within that group.\n",
    "\n",
    "On the other hand, the standard error of the mean measures how much the sample mean is expected to vary from the actual population mean. It provides an estimate of the precision of the sample mean as a reflection of the population mean. The SEM is calculated by dividing the standard deviation by the square root of the sample size. The SEM decreases as the sample size increases, indicating that the sample mean is becoming a more accurate estimate of the actual population mean. This is because larger samples represent the population better, reducing the uncertainty about the population mean. Therefore, SEM is directly tied to sample size and reflects the mean's variability rather than individual data points' variability.\n",
    "\n",
    "The critical difference between these two concepts is that standard deviation measures the variability of the data, while standard error measures the variability of the mean. Standard deviation concerns how much individual data points differ from the mean. In contrast, standard error is concerned with how reliable the mean of a sample is as an estimate of the actual population mean. In a sense, the SEM captures the uncertainty in our estimate of the mean and becomes smaller as we increase the sample size. The SD, however, remains the same regardless of sample size because it is intrinsic to the dataset itself.\n",
    "\n",
    "In conclusion, while the standard deviation and the standard error of the mean are derived from the data, they capture different ideas. The standard deviation provides a sense of the overall variability within the dataset, while the standard error tells us about the precision of our mean estimate. Understanding these metrics is essential for interpreting data accurately, as each serves a distinct role in statistical analysis. By clarifying this distinction, we can better communicate the insights derived from data and avoid common misinterpretations. This distinction is crucial for producing accurate statistical reports and ensuring that conclusions drawn from data are well-founded."
   ]
  },
  {
   "cell_type": "markdown",
   "metadata": {},
   "source": [
    "Summary of Interactions:\n",
    "\n",
    "Initial Inquiry: You asked for clarification on the difference between the standard deviation and the standard error of the mean (SEM) in a dataset, seeking an explanation with clear written communication.\n",
    "\n",
    "Explanation Provided:\n",
    "\n",
    "Standard Deviation (SD) was explained as a measure of the overall spread or variability of individual data points in a dataset, showing how much they deviate from the mean.\n",
    "Standard Error of the Mean (SEM) was described as a measure of how precisely the sample mean estimates the population mean, calculated by dividing the SD by the square root of the sample size.\n",
    "The key distinction was emphasized: SD reflects the variability within the data, while SEM reflects the accuracy of the sample mean as an estimate of the population mean.\n",
    "Emphasis on Clear Communication: The explanation was tailored to focus on clarity, aligning with the guidelines for detailed and understandable responses, as emphasized in your homework expectations.\n",
    "\n",
    "https://chatgpt.com/share/66ff5b4e-2568-8000-9969-6b13120fa5e0"
   ]
  },
  {
   "cell_type": "markdown",
   "metadata": {},
   "source": [
    "### 2. The \"Pre-lecture\" video (above) suggested that the \"standard error of the mean\" could be used to create a confidence interval, but didn't describe exactly how to do this.  How can we use the \"standard error of the mean\" to create a 95% confidence interval which \"covers 95% of the bootstrapped sample means\"? Explain this concisely in your own words.<br>\n",
    "\n",
    "<details class=\"details-example\"><summary style=\"color:blue\"><u>Further Guidance</u></summary>\n",
    "\n",
    "> _Just describe the proceedure itself (probably as reported by a ChatBot), but explain the procedure in your own words in a way that makes the most sense to you. The point is not to understand or explain the theoretical justification as to why this procedure exists, it's just to recognize that it does indeed exist and to briefly describe it. This is because in this class we're going to instead focus on understanding and using 95% bootstrapped confidence intervals. So this \"sample mean plus and minus about 2 times the standard error\" really only provides some context against which to contrast and clarify bootstrapped confidence intervals_\n",
    ">\n",
    "> - _If you continue get help from a ChatBot for this question (as is intended and expected for this problem), don't forget to ask for summaries of your ChatBot session(s) and paste these into your homework notebook (including link(s) to chat log histories if you're using ChatGPT)._\n",
    "</details>"
   ]
  },
  {
   "cell_type": "markdown",
   "metadata": {},
   "source": [
    "First, calculate the sample mean from your bootstrapped data.  Then, compute the SEM, which is the standard deviation of the bootstrapped sample means divided by the square root of the sample size.  Once you have the SEM, you can create the confidence interval by taking the sample mean and adding and subtracting approximately two times the SEM (since 1.96 SEMs corresponds to 95% in a normal distribution).  This gives you a range that \"covers\" 95% of the bootstrapped sample means, providing an estimate of where the actual population mean lies."
   ]
  },
  {
   "cell_type": "markdown",
   "metadata": {},
   "source": [
    "Summary of Interactions:\n",
    "Standard Error of the Mean and 95% Confidence Interval:\n",
    "\n",
    "We discussed how to use the standard error of the mean (SEM) to calculate a 95% confidence interval based on bootstrapped sample means.\n",
    "The process involves:\n",
    "Generating many bootstrap samples and calculating the mean for each sample.\n",
    "Finding the standard deviation of these means, which represents the SEM.\n",
    "Using the critical value of 1.96 (for 95% confidence) to calculate the confidence interval:\n",
    "\n",
    "CI=Bootstrapped Mean±(1.96×SEM)\n",
    "This gives a range where the true population mean is expected to lie with 95% confidence.\n",
    "Meaning of Covering 95% of Bootstrapped Sample Means:\n",
    "\n",
    "We clarified that \"covering 95% of the bootstrapped sample means\" refers to the confidence interval being wide enough to contain 95% of the bootstrapped means. This means the CI reflects the natural variation in the data and captures the true population mean 95% of the time in repeated sampling.\n",
    "\n",
    "https://chatgpt.com/share/66ff5d5f-237c-8000-9cd2-99e9ac7efd4f"
   ]
  },
  {
   "cell_type": "markdown",
   "metadata": {},
   "source": [
    "### 3. Creating the \"sample mean plus and minus about 2 times the standard error\" confidence interval addressed in the previous problem should indeed cover approximately 95% of the bootstrapped sample means. Alternatively, how do we create a 95% bootstrapped confidence interval using the bootstrapped means (without using their standard deviation to estimate the standard error of the mean)? Explain this concisely in your own words.<br>\n",
    "\n",
    "<details class=\"details-example\"><summary style=\"color:blue\"><u>Further Guidance</u></summary>\n",
    "\n",
    "> _A good explaination here would likely be based on explaining how (and why) to use the `np.quantile(...)` function on a collection of bootstrapped sample means. The \"pre-lecture video\" describes what this should be, just not in terms of`np.quantile(...)`, right before the \"double bam\"._\n",
    ">\n",
    "> _That said, there are many other questions about bootstrapping that you should be working on familiarizing yourself with as as you're thinking through th proceedure that answers this question._\n",
    "> \n",
    "> - _If you had a_ ~~theoretical distribution~~ _histogram of bootstrapped sample means representing the variability/uncertianty of means (of \"averages\") that an observed sample of size n produces, how would you give a range estimating what the sample mean of a future sample of size n might be?_\n",
    ">\n",
    "> - _Unlike the \"sample mean plus and minus about 2 times the standard error\" approach which would only cover **approximately** 95% of the bootstrapped sample means, a 95% bootstrapped confidence interval would cover exactly 95% of the bootstrapped means._\n",
    ">\n",
    "> - _While the variability/uncertainty of sample mean statistics when sampling from a population is a function of the sample size (n) [how?], we would NEVER consider using a bootstrapped sample size that was different than the size of the original sample [why?]._\n",
    ">\n",
    "> - _Are bootstrapped samples different if they are the same size as the original sample and created by sampling **without replacement**?_\n",
    "\n",
    "</details>"
   ]
  },
  {
   "cell_type": "markdown",
   "metadata": {},
   "source": [
    "To create a 95% bootstrapped confidence interval using the bootstrapped means without relying on the standard deviation or the standard error, you can use the quantile method. First, generate many bootstrapped samples and calculate the mean for each. Then, use the np.quantile() function to find the 2.5th and 97.5th percentiles of the distribution of these bootstrapped means. These percentiles represent the lower and upper bounds of the 95% confidence interval. This approach ensures that 95% of the bootstrapped sample means fall within this range, without assuming normality or using the standard deviation."
   ]
  },
  {
   "cell_type": "markdown",
   "metadata": {},
   "source": [
    "Summary of Interactions:\n",
    "Creating a 95% Bootstrapped Confidence Interval Using the Standard Error of the Mean:\n",
    "\n",
    "We discussed how to create a 95% confidence interval using the standard error of the mean (SEM) from bootstrapped sample means. The steps include:\n",
    "Generating many bootstrap samples and calculating the mean for each sample.\n",
    "Calculating the standard deviation of the bootstrapped means, which represents the SEM.\n",
    "Using the critical value of 1.96 to calculate the confidence interval with the formula:\n",
    "\n",
    "CI=Bootstrapped Mean±(1.96×SEM)\n",
    "Percentile Method for a 95% Bootstrapped Confidence Interval (Without Using SEM):\n",
    "\n",
    "We then discussed an alternative method to create a 95% confidence interval using the percentile method, which avoids calculating the SEM. The steps involve:\n",
    "Generating many bootstrap samples and calculating their means.\n",
    "Sorting the bootstrapped means.\n",
    "Using the 2.5th and 97.5th percentiles of the bootstrapped means as the lower and upper bounds of the 95% confidence interval.\n",
    "\n",
    "https://chatgpt.com/share/66ff5d5f-237c-8000-9cd2-99e9ac7efd4f"
   ]
  },
  {
   "cell_type": "markdown",
   "metadata": {},
   "source": [
    "### 4. The \"Pre-lecture\" video (above) mentioned that bootstrap confidence intervals could apply to other statistics of the sample, such as the \"median\". Work with a ChatBot to create code to produce a 95% bootstrap confidence interval for a population mean based on a sample that you have and comment the code to demonstrate how the code can be changed to produce a 95% bootstrap confidence interval for different population parameter (other than the population mean, such as the population median).<br>\n",
    "\n",
    "<details class=\"details-example\"><summary style=\"color:blue\"><u>Further Guidance</u></summary>\n",
    "\n",
    "> _Hint: you can ask your ChatBot to create the code you need, and even make up a sample to use; but, you should work with your ChatBot to make sure you understand how the code works and what it's doing. Just having a ChatBot comment what the code does is not what this problem is asking you to do. This problem wants YOU to understand what the code does. To make sure you're indeed doing this, consider deleting the inline explanatory comments your ChatBot provides to you and write them again in your own words from scratch._\n",
    ">\n",
    "> - _Don't forget to ask for summaries of your ChatBot session(s) and paste these into your homework notebook (including link(s) to chat log histories if you're using ChatGPT)!_\n",
    "\n",
    "</details>"
   ]
  },
  {
   "cell_type": "code",
   "execution_count": 2,
   "metadata": {},
   "outputs": [
    {
     "name": "stdout",
     "output_type": "stream",
     "text": [
      "95% Confidence Interval for the Mean: [9.166666666666666, 29.833333333333332]\n"
     ]
    }
   ],
   "source": [
    "import numpy as np\n",
    "\n",
    "# Sample data (you can replace this with your actual data)\n",
    "data = np.array([4, 8, 15, 16, 23, 42])\n",
    "\n",
    "# Number of bootstrap samples\n",
    "n_bootstrap = 1000\n",
    "\n",
    "# Create an empty list to store the bootstrapped means\n",
    "bootstrapped_means = []\n",
    "\n",
    "# Perform bootstrapping\n",
    "for _ in range(n_bootstrap):\n",
    "    # Generate a bootstrap sample (sampling with replacement)\n",
    "    bootstrap_sample = np.random.choice(data, size=len(data), replace=True)\n",
    "    # Calculate the mean of the bootstrap sample\n",
    "    bootstrapped_means.append(np.mean(bootstrap_sample))\n",
    "\n",
    "# Calculate the 2.5th and 97.5th percentiles for the 95% confidence interval\n",
    "lower_bound = np.percentile(bootstrapped_means, 2.5)\n",
    "upper_bound = np.percentile(bootstrapped_means, 97.5)\n",
    "\n",
    "# Print the 95% confidence interval\n",
    "print(f\"95% Confidence Interval for the Mean: [{lower_bound}, {upper_bound}]\")\n"
   ]
  },
  {
   "cell_type": "code",
   "execution_count": 3,
   "metadata": {},
   "outputs": [
    {
     "name": "stdout",
     "output_type": "stream",
     "text": [
      "95% Confidence Interval for the Median: [6.0, 32.5]\n"
     ]
    }
   ],
   "source": [
    "import numpy as np\n",
    "\n",
    "# Sample data (replace with your actual data)\n",
    "data = np.array([4, 8, 15, 16, 23, 42])\n",
    "\n",
    "# Number of bootstrap samples\n",
    "n_bootstrap = 1000\n",
    "\n",
    "# Create an empty list to store the bootstrapped medians\n",
    "bootstrapped_medians = []\n",
    "\n",
    "# Perform bootstrapping\n",
    "for _ in range(n_bootstrap):\n",
    "    # Generate a bootstrap sample (sampling with replacement)\n",
    "    bootstrap_sample = np.random.choice(data, size=len(data), replace=True)\n",
    "    # Calculate the median of the bootstrap sample\n",
    "    bootstrapped_medians.append(np.median(bootstrap_sample))\n",
    "\n",
    "# Calculate the 2.5th and 97.5th percentiles for the 95% confidence interval\n",
    "lower_bound = np.percentile(bootstrapped_medians, 2.5)\n",
    "upper_bound = np.percentile(bootstrapped_medians, 97.5)\n",
    "\n",
    "# Print the 95% confidence interval\n",
    "print(f\"95% Confidence Interval for the Median: [{lower_bound}, {upper_bound}]\")\n"
   ]
  },
  {
   "cell_type": "markdown",
   "metadata": {},
   "source": [
    "Bootstrapping involves repeatedly sampling from the original dataset (with replacement) to generate a \"bootstrap sample.\" Each time, we calculate a statistic (mean or median) for that sample. The code collects many such statistics (either means or medians), and then calculates the confidence interval by finding the 2.5th and 97.5th percentiles of the bootstrap results, giving us the range where 95% of the bootstrapped statistics fall."
   ]
  },
  {
   "cell_type": "markdown",
   "metadata": {},
   "source": [
    "Summary of Interactions on Bootstrapping in Python:\n",
    "\n",
    "Introduction to Bootstrapping for Confidence Intervals:\n",
    "\n",
    "I asked for assistance in writing Python code to calculate a 95% confidence interval using bootstrapping for both the population mean and median.\n",
    "ChatGPT provided a step-by-step explanation of the process and sample code to calculate a 95% confidence interval for the population mean using bootstrapping. The code generates bootstrap samples, calculates the statistic (mean or median), and computes the confidence interval by finding the relevant percentiles of the bootstrap estimates.\n",
    "Modification to Calculate Confidence Interval for the Median:\n",
    "\n",
    "After understanding the code for the mean, I asked how to modify it to calculate the confidence interval for the median.\n",
    "ChatGPT explained that the same function could be used by simply changing the statistic from np.mean to np.median.\n",
    "Detailed Explanation of Bootstrapping Code:\n",
    "\n",
    "ChatGPT provided a detailed explanation of each part of the Python code:\n",
    "The function generates random samples with replacement (bootstrap samples).\n",
    "For each sample, it calculates the specified statistic (mean or median).\n",
    "It stores the bootstrap estimates and computes the confidence interval by finding the lower and upper percentiles.\n",
    "Final Code Example for Both Mean and Median:\n",
    "\n",
    "ChatGPT demonstrated how to use the bootstrap_sample function to calculate the 95% confidence interval for both the mean and median by calling the function twice, passing np.mean for the mean and np.median for the median.\n",
    "\n",
    "https://chatgpt.com/share/66ff5faf-a210-8000-9144-08e9a8d844f5"
   ]
  },
  {
   "cell_type": "markdown",
   "metadata": {},
   "source": [
    "<details class=\"details-example\"><summary style=\"color:blue\"><u>Continue now...?</u></summary>\n",
    "\n",
    "### Pre-lecture VS Post-lecture HW\n",
    "\n",
    "Feel free to work on the \"Post-lecture\" HW below if you're making good progress and want to continue: some of the \"Post-lecture\" HW questions continue to address the \"Pre-lecture\" video, so it's not particularly unreasonable to attempt to work ahead a little bit... \n",
    "\n",
    "- The very first question of the the \"Post-lecture\" HW addresses the previously emphasized topic of *parameters* versus *statistics*, and would again be a very good thing to be clear about in preparation for the upcoming lecture...\n",
    "    \n",
    "*The benefits of continue would are that (a) it might be fun to try to tackle the challenge of working through some problems without additional preparation or guidance; and (b) this is a very valable skill to be comfortable with; and (c) it will let you build experience interacting with ChatBots (and beginning to understand their strengths and limitations in this regard)... it's good to have sense of when using a ChatBot is the best way to figure something out, or if another approach (such as course provided resources or a plain old websearch for the right resourse) would be more effective*\n",
    "    \n",
    "</details>    "
   ]
  },
  {
   "cell_type": "markdown",
   "metadata": {},
   "source": [
    "## \"Post-lecture\" HW [*submission along with \"Pre-lecture\" HW is due prior to next TUT*]"
   ]
  },
  {
   "cell_type": "markdown",
   "metadata": {},
   "source": [
    "### 5. The previous question addresses making a confidence interval for a population parameter based on a sample statistic. Why do we need to distinguish between the role of the popualation parameter and the sample sample statistic when it comes to confidence intervals? Explain this concisely in your own words.<br>\n",
    "\n",
    "<details class=\"details-example\"><summary style=\"color:blue\"><u>Further Guidance</u></summary>\n",
    "\n",
    "> _This question helps clarify the nature and relative roles of (population) parameters and (sample) statistics, which forms the fundamental conceptual relationship in statistics and data science; so, make sure you interact with a ChatBot (or search online or in the course [wiki-textbook](https://github.com/pointOfive/stat130chat130/wiki)) carefully and thoroughly to ensure that you understand the distinctions here in the context of confidence intervals._\n",
    ">\n",
    "> - _As always, don't forget to ask for summaries of your ChatBot session(s) and paste these into your homework notebook (including link(s) to chat log histories if you're using ChatGPT)._\n",
    "\n",
    "</details>"
   ]
  },
  {
   "cell_type": "markdown",
   "metadata": {},
   "source": [
    "It is important to distinguish between the population parameter and the sample statistic when constructing confidence intervals because they serve different roles. The population parameter is the true value we are trying to estimate, but it is unknown. The sample statistic, such as the sample mean or median, is what we calculate from our data and use as an estimate of the population parameter. The confidence interval is built around the sample statistic to provide a range that likely contains the true population parameter. Understanding this distinction ensures that we interpret the confidence interval correctly as an estimate based on the sample, not as a direct measure of the population parameter itself."
   ]
  },
  {
   "cell_type": "markdown",
   "metadata": {},
   "source": [
    "Summary of Interactions on Bootstrapping and Confidence Intervals:\n",
    "\n",
    "Bootstrapping to Calculate 95% Confidence Interval:\n",
    "\n",
    "I asked for help in writing Python code to calculate a 95% confidence interval using bootstrapping for the population mean and median.\n",
    "ChatGPT provided sample code that generates bootstrap samples, calculates the mean or median for each sample, and computes the confidence interval by finding the appropriate percentiles.\n",
    "The code was explained in detail, including how it performs sampling with replacement, calculates the desired statistic (mean or median), and determines the confidence interval.\n",
    "Distinguishing Between Population Parameter and Sample Statistic:\n",
    "\n",
    "I asked for an explanation of the importance of distinguishing between the population parameter and the sample statistic when calculating a confidence interval.\n",
    "ChatGPT explained that the population parameter is the true, but unknown, value we are trying to estimate, while the sample statistic is the calculated value from the sample. The confidence interval is used to estimate the range within which the population parameter is likely to lie, based on the sample statistic.\n",
    "The distinction is critical for correct interpretation because the confidence interval provides insight into the uncertainty of the estimate for the population parameter, not the variation in the sample data.\n",
    "\n",
    "https://chatgpt.com/share/66ff5faf-a210-8000-9144-08e9a8d844f5"
   ]
  },
  {
   "cell_type": "markdown",
   "metadata": {},
   "source": [
    "### 6. Provide written answers explaining the answers to the following questions in an informal manner of a conversation with a friend with little experience with statistics. <br>\n",
    "\n",
    "1. What is the process of bootstrapping? \n",
    "2. What is the main purpose of bootstrapping? \n",
    "3. If you had a (hypothesized) guess about what the average of a population was, and you had a sample of size n from that population, how could you use bootstrapping to assess whether or not your (hypothesized) guess might be plausible?\n",
    "   \n",
    "<details class=\"details-example\"><summary style=\"color:blue\"><u>Further Guidance</u></summary>\n",
    "\n",
    "> _Your answers to the previous questions 3-5 above (and the \"Further Guidance\" comments in question 3) should be very helpful for answering this question; but, they are very likely be more technical than would be useful for explaining these ideas to your friends. Work to use descriptive and intuitive language in your explaination._\n",
    "\n",
    "</details>"
   ]
  },
  {
   "cell_type": "markdown",
   "metadata": {},
   "source": [
    "1. What is the process of bootstrapping?\n",
    "\n",
    "Imagine you have a small dataset, like a group of test scores, but you want to know more about specific statistics' reliability, like the average score. Bootstrapping is a way to create many new \"datasets\" from your original data. It is simple: you randomly pick data points from your original dataset, with replacement, and make a new sample. You do this repeatedly—hundreds or thousands of times—each time calculating a statistic like the mean or median. In the end, you use the results of all those statistics to understand better how much the statistic varies, which helps estimate confidence intervals or test hypotheses.\n",
    "\n",
    "2. What is the primary purpose of bootstrapping?\n",
    "\n",
    "We mainly use bootstrapping because it helps us understand how uncertain or variable our statistics are, especially when we do not have much data. It is a way to measure the reliability of the average or median in your sample without making many assumptions about the population. In traditional methods, you often have to assume the data follows a particular distribution, like the normal distribution, but bootstrapping works with the data you already have. This makes it a flexible and powerful tool for estimating confidence intervals or comparing means, even when your dataset is minor or complicated.\n",
    "\n",
    "3. How could you use bootstrapping to test a hypothesis about the population average?\n",
    "\n",
    "Let's say the average height of people in a specific town is 170 cm, but you only have a sample of heights from 30 people. You can use bootstrapping to see if that 170 cm guess is reasonable. First, take your sample and generate many bootstrapped samples from it. Then, for each bootstrapped sample, calculate the average height. After you have done this hundreds or thousands of times, you will have a distribution of averages. You can then check if 170 cm falls within the range of values in this distribution. If it is far outside the range, your guess might not be plausible. 170 cm could likely be the population average if it is within the range."
   ]
  },
  {
   "cell_type": "markdown",
   "metadata": {},
   "source": [
    "\n",
    "### 7. The \"Pre-lecture\" video (above) introduced hypothesis testing by saying that \"the confidence interval covers zero, so we cannot reject the hypothesis that the drug is **[on average]** not doing anything\".  This conclusion could be referred to as \"failing to reject the null hypothesis\", where the term \"null\" refers to the concept of \"no effect **[on average]**\".  Why does a confidence interval overlapping zero \"fail to reject the null hypothesis\" when the observed sample mean statistic itself is not zero? Alternatively, what would lead to the opposite conclusion in this context; namely, instead choosing \"to reject the null hypothesis\"? Explain the answers to these questions concisely in your own words.<br>\n",
    "\n",
    "<details class=\"details-example\"><summary style=\"color:blue\"><u>Further Guidance</u></summary>\n",
    "\n",
    "> _This question (which addresses a very similar content to the third question of the previous probelm) is really about characterizing and leveraging the behavior of the variability/uncertainty of sample means that we expect at a given sample size. Understanding why this characterization would explain the answer to this question is the key idea underlying statistics. In fact, this concept is the primary consideration in statistics and the essense of how statistical analysis works._\n",
    "> \n",
    "> - In answering this question it is surely helpful to note the difference between the observed sample values in the sample $x_i$ (for $i = 1, \\cdots, n$), the observed sample average $\\bar x$, and the actual value of the parameter $\\mu$ clearly. Hopefully the meanings and distinctions here are increasingly obvious, as they should be if you have a clear understanding of the answer to question \"5\" above. Related to this, the quotes above have been edited to include \"**[on average]**\" which more accurately clarifies the intended meaning of the statements from the video. It's very relevent (again related to Question \"5\" above) to understand why are we bothering with making an explicit distinction with this, and why is it slightly different to say that \"the drug is on average not doing anything\" as opposed to saying \"the drug is not doing anything\"._\n",
    "> \n",
    "> Using a **null hypotheses** (and corresponding **alternative hypothesis**) will be addressed next week; but, to give a sneak peak preview of the **hypothesis testing** topic, the \"null\" and \"alternative\" are formally specified as \n",
    ">    \n",
    "> $H_0: \\mu=0 \\quad \\text{ and } \\quad H_A: H_0 \\text{ is false}$\n",
    ">\n",
    "> which means that our **null hypotheses** is that the average value $\\mu$ of the population is $0$, while our **alternative hypothesis** is that the average value $\\mu$ of the population is not $0$. \n",
    "> \n",
    "> **Statistical hypothesis testing** proceeds on the basis of the **scientific method** by defining the **null hypothesis** to be what we beleive until we have sufficient evidence to no longer believe it. As such, the **null hypotheses** is typically something that we *may not actually believe*; and, actually, the **null hypotheses** simply serves as a sort of \"straw man\" which we in fact really intend to give evidence against so as to no longer believe it (and hence move forward following the procedure of the **scientific method**).\n",
    "</details>"
   ]
  },
  {
   "cell_type": "markdown",
   "metadata": {},
   "source": [
    "When a confidence interval includes zero, we \"fail to reject the null hypothesis\" because zero represents no effect or no difference in the context of hypothesis testing. The null hypothesis typically states that there is no effect (e.g., the average effect of a drug is zero). Suppose zero is within the range of possible values in the confidence interval. In that case, there is insufficient evidence to rule out the possibility that the actual effect could be zero. In other words, the data is consistent with the idea that the drug might not impact on average.\n",
    "\n",
    "On the other hand, to reject the null hypothesis, the confidence interval must exclude zero. This would suggest that the actual effect is likely different from zero, meaning there is strong enough evidence that the drug does have an effect. If the interval lies entirely above or below zero, it indicates a statistically significant result, allowing us to conclude that the drug either positively or negatively affects the outcome."
   ]
  },
  {
   "cell_type": "markdown",
   "metadata": {},
   "source": [
    "Topic: Confidence Intervals and Hypothesis Testing\n",
    "Confidence Interval and the Null Hypothesis:\n",
    "\n",
    "We discussed how a confidence interval (CI) provides a range of values within which the true population parameter is likely to fall. If the CI overlaps with zero, it means there is insufficient evidence to conclude that the population mean is different from zero. Therefore, we fail to reject the null hypothesis (H₀) that the mean is zero, even if the observed sample mean is not zero. This overlap indicates that zero is a plausible value for the true mean, and hence, there may not be a significant effect.\n",
    "Drug Effect and Confidence Intervals:\n",
    "\n",
    "You asked about why a CI including zero is considered evidence that a drug may not have an effect \"on average.\" We discussed that if zero is within the confidence interval, it suggests that the true population mean effect could be zero, meaning the drug may not have a significant effect.\n",
    "To reject the null hypothesis and conclude that the drug has an effect, the confidence interval must exclude zero. This would imply the population mean is likely non-zero, providing strong evidence against the null hypothesis.\n",
    "\n",
    "https://chatgpt.com/share/66ff6391-dcec-8000-96b3-ca36d3f4bb14"
   ]
  },
  {
   "cell_type": "markdown",
   "metadata": {},
   "source": [
    "### 8. Complete the following assignment. \n"
   ]
  },
  {
   "cell_type": "markdown",
   "metadata": {},
   "source": [
    "### Vaccine Data Analysis Assignment\n",
    "\n",
    "**Overview**\n",
    "\n",
    "The company AliTech has created a new vaccine that aims to improve the health of the people who take it. Your job is to use what you have learned in the course to give evidence for whether or not the vaccine is effective. \n",
    "\n",
    "**Data**\n",
    "AliTech has released the following data.\n",
    "\n",
    "```csv\n",
    "PatientID,Age,Gender,InitialHealthScore,FinalHealthScore\n",
    "1,45,M,84,86\n",
    "2,34,F,78,86\n",
    "3,29,M,83,80\n",
    "4,52,F,81,86\n",
    "5,37,M,81,84\n",
    "6,41,F,80,86\n",
    "7,33,M,79,86\n",
    "8,48,F,85,82\n",
    "9,26,M,76,83\n",
    "10,39,F,83,84\n",
    "```\n",
    "\n",
    "**Deliverables**\n",
    "While you can choose how to approach this project, the most obvious path would be to use bootstrapping, follow the analysis presented in the \"Pre-lecture\" HW video (above). Nonetheless, we are  primarily interested in evaluating your report relative to the following deliverables.\n",
    "\n",
    "- A visual presentation giving some initial insight into the comparison of interest.\n",
    "- A quantitative analysis of the data and an explanation of the method and purpose of this method.\n",
    "- A conclusion regarding a null hypothesis of \"no effect\" after analyzing the data with your methodology.\n",
    "- The clarity of your documentation, code, and written report. \n",
    "\n",
    "> Consider organizing your report within the following outline template.\n",
    "> - Problem Introduction \n",
    ">     - An explaination of the meaning of a Null Hypothesis of \"no effect\" in this context\n",
    ">     - Data Visualization (motivating and illustrating the comparison of interest)\n",
    "> - Quantitative Analysis\n",
    ">     - Methodology Code and Explanations\n",
    ">     - Supporting Visualizations\n",
    "> - Findings and Discussion\n",
    ">     - Conclusion regarding a Null Hypothesis of \"no effect\"\n",
    ">     - Further Considerations\n",
    "\n",
    "**Further Instructions**\n",
    "- When using random functions, you should make your analysis reproducible by using the `np.random.seed()` function\n",
    "- Create a CSV file and read that file in with your code, but **do not** include the CSV file along with your submission\n"
   ]
  },
  {
   "cell_type": "markdown",
   "metadata": {},
   "source": [
    "We want to analyze whether a new vaccine effectively improves people's health by comparing the initial and final health scores for each participant. Our null hypothesis is that the vaccine has no effect, meaning the difference between the initial and final health scores is zero on average. We will use bootstrapping to estimate the confidence interval for the change in health scores and determine if we can reject the null hypothesis.\n",
    "\n",
    "First, we will load and visualize the data to understand the distribution of the initial and final health scores."
   ]
  },
  {
   "cell_type": "code",
   "execution_count": 4,
   "metadata": {},
   "outputs": [
    {
     "data": {
      "image/png": "[encoded data removed]",
      "text/plain": [
       "<Figure size 1000x600 with 1 Axes>"
      ]
     },
     "metadata": {},
     "output_type": "display_data"
    }
   ],
   "source": [
    "import numpy as np\n",
    "import pandas as pd\n",
    "import matplotlib.pyplot as plt\n",
    "\n",
    "# Data as per the assignment\n",
    "data = {\n",
    "    \"PatientID\": [1, 2, 3, 4, 5, 6, 7, 8, 9, 10],\n",
    "    \"Age\": [45, 34, 29, 52, 37, 41, 33, 48, 26, 39],\n",
    "    \"Gender\": ['M', 'F', 'M', 'F', 'M', 'M', 'M', 'F', 'M', 'F'],\n",
    "    \"InitialHealthScore\": [84, 78, 80, 81, 81, 80, 79, 85, 76, 83],\n",
    "    \"FinalHealthScore\": [86, 85, 84, 86, 84, 86, 86, 82, 83, 84]\n",
    "}\n",
    "\n",
    "df = pd.DataFrame(data)\n",
    "\n",
    "# Visualizing the Initial and Final Health Scores\n",
    "plt.figure(figsize=(10,6))\n",
    "plt.plot(df['PatientID'], df['InitialHealthScore'], label=\"Initial Health Score\", marker='o')\n",
    "plt.plot(df['PatientID'], df['FinalHealthScore'], label=\"Final Health Score\", marker='o')\n",
    "plt.xlabel(\"Patient ID\")\n",
    "plt.ylabel(\"Health Score\")\n",
    "plt.title(\"Comparison of Initial and Final Health Scores for Patients\")\n",
    "plt.legend()\n",
    "plt.grid(True)\n",
    "plt.show()\n"
   ]
  },
  {
   "cell_type": "markdown",
   "metadata": {},
   "source": [
    "This visualization shows the initial and final health scores for each patient. We can observe some improvement in scores, but we need to conduct statistical analysis to determine whether this improvement is statistically significant.\n",
    "\n",
    "The next step is to calculate each patient's health score difference and apply bootstrapping to compute a 95% confidence interval for the mean difference."
   ]
  },
  {
   "cell_type": "code",
   "execution_count": 5,
   "metadata": {},
   "outputs": [
    {
     "name": "stdout",
     "output_type": "stream",
     "text": [
      "95% Confidence Interval for the Mean Difference: [2.00, 5.60]\n"
     ]
    }
   ],
   "source": [
    "# Calculate the difference between initial and final health scores\n",
    "df['ScoreDifference'] = df['FinalHealthScore'] - df['InitialHealthScore']\n",
    "\n",
    "# Function to perform bootstrapping\n",
    "def bootstrap(data, n_bootstrap=1000):\n",
    "    bootstrapped_means = []\n",
    "    np.random.seed(42)  # For reproducibility\n",
    "    for _ in range(n_bootstrap):\n",
    "        sample = np.random.choice(data, size=len(data), replace=True)\n",
    "        bootstrapped_means.append(np.mean(sample))\n",
    "    return bootstrapped_means\n",
    "\n",
    "# Perform bootstrapping on the score differences\n",
    "bootstrapped_means = bootstrap(df['ScoreDifference'])\n",
    "\n",
    "# Calculate 95% confidence interval\n",
    "lower_bound = np.percentile(bootstrapped_means, 2.5)\n",
    "upper_bound = np.percentile(bootstrapped_means, 97.5)\n",
    "\n",
    "print(f\"95% Confidence Interval for the Mean Difference: [{lower_bound:.2f}, {upper_bound:.2f}]\")\n"
   ]
  },
  {
   "cell_type": "markdown",
   "metadata": {},
   "source": [
    "In the above code, we first calculated the difference between each patient's final and initial health scores, which represents the change in health due to the vaccine. We then used bootstrapping to create 1,000 resampled datasets, calculated the mean difference for each, and computed the 95% confidence interval from these means.\n",
    "\n",
    "If the 95% confidence interval does not include zero, it would suggest that the vaccine significantly improves health scores. If zero is included, we would fail to reject the null hypothesis of \"no effect.\"\n",
    "\n",
    "Conclusion and Findings：\n",
    "\n",
    "Based on the analysis, the 95% confidence interval does not include zero, which means we can reject the null hypothesis of \"no effect.\" Therefore, the vaccine likely improves people's health, as reflected by the positive difference between initial and final health scores."
   ]
  },
  {
   "cell_type": "markdown",
   "metadata": {},
   "source": [
    "Summary of Interactions for Homework Assignment:\n",
    "1. Introduction to Vaccine Data Analysis: We began by discussing a dataset provided by AliTech, which included patients' initial and final health scores after receiving a vaccine. The objective was to evaluate whether the vaccine had a significant effect on patients' health outcomes by analyzing the change in health scores.\n",
    "\n",
    "Null Hypothesis (H₀): The vaccine has no significant effect on health scores (i.e., the mean change is zero).\n",
    "Alternative Hypothesis (H₁): The vaccine has a significant effect on health scores (i.e., the mean change is not zero).\n",
    "2. Choosing an Appropriate Statistical Method: We explored why bootstrapping is an appropriate method for this analysis. Bootstrapping is effective because:\n",
    "\n",
    "It does not rely on assumptions about the data’s distribution (ideal for small datasets).\n",
    "It allows us to estimate the variability of the mean change in health scores using resampling.\n",
    "3. Bootstrapping Process: I guided you through the bootstrapping process:\n",
    "\n",
    "We resampled the data with replacement to generate 10,000 bootstrap samples.\n",
    "For each sample, we calculated the mean change in health scores.\n",
    "From the resulting distribution of mean changes, we calculated the 95% confidence interval for the mean change.\n",
    "4. Results of Bootstrapping: We calculated that the 95% confidence interval for the mean change in health scores was (0.8, 5.6). Since the interval excludes zero, we concluded that the vaccine likely had a positive effect on health scores, providing evidence to reject the null hypothesis.\n",
    "\n",
    "5. Visualization of Data: To further analyze the data, we created visualizations:\n",
    "\n",
    "A box plot comparing the distributions of initial and final health scores.\n",
    "A scatter plot illustrating individual patient changes in health scores before and after the vaccine.\n",
    "These visualizations helped highlight both the overall trend and individual responses to the vaccine.\n",
    "\n",
    "6. Writing a Clear Conclusion: We discussed how to clearly state the conclusion of the analysis, emphasizing that the confidence interval (0.8, 5.6) suggests a statistically significant positive effect of the vaccine on health outcomes.\n",
    "\n",
    "7. Best Practices for Reporting and Code Documentation: I provided best practices for structuring your report to ensure it is clear, concise, and meets rubric requirements:\n",
    "\n",
    "A well-organized flow with sections for Introduction, Methods, Results, Discussion, and Conclusion.\n",
    "Detailed comments and modularized code to ensure clarity and reproducibility.\n",
    "Emphasis on the importance of visualizations and clear explanations of statistical methods.\n",
    "8. Hypothesis Testing and Interpretation: We reviewed how to use the results of the bootstrapping method to test the null hypothesis, concluding that the null hypothesis should be rejected since the confidence interval excludes zero, indicating a significant effect of the vaccine.\n",
    "\n",
    "https://chatgpt.com/share/66ff6700-7cec-8000-a3e0-5a6ed2932dac"
   ]
  },
  {
   "cell_type": "markdown",
   "metadata": {},
   "source": [
    "### 9. Have you reviewed the course wiki-textbook and interacted with a ChatBot (or, if that wasn't sufficient, real people in the course piazza discussion board or TA office hours) to help you understand all the material in the tutorial and lecture that you didn't quite follow when you first saw it?<br>\n",
    "    \n",
    "<details class=\"details-example\"><summary style=\"color:blue\"><u>Further Guidance</u></summary>\n",
    "    \n",
    ">  Here is the link of [wiki-textbook](https://github.com/pointOfive/stat130chat130/wiki) in case it gets lost among all the information you need to keep track of  : )\n",
    "> \n",
    "> Just answering \"Yes\" or \"No\" or \"Somewhat\" or \"Mostly\" or whatever here is fine as this question isn't a part of the rubric; but, the midterm and final exams may ask questions that are based on the tutorial and lecture materials; and, your own skills will be limited by your familiarity with these materials (which will determine your ability to actually do actual things effectively with these skills... like the course project...)\n",
    "\n",
    "</details>\n",
    "\n",
    "_**Don't forget to ask for summaries of your ChatBot session(s) and paste these into your homework notebook (including link(s) to chat log histories if you're using ChatGPT)!**_"
   ]
  },
  {
   "cell_type": "markdown",
   "metadata": {},
   "source": [
    "Yes."
   ]
  },
  {
   "cell_type": "markdown",
   "metadata": {},
   "source": [
    "## Recommended Additional Useful Activities [Optional]\n",
    "\n",
    "The \"Ethical Profesionalism Considerations\" and \"Current Course Project Capability Level\" sections below **are not a part of the required homework assignment**; rather, they are regular weekly guides covering (a) relevant considerations regarding professional and ethical conduct, and (b) the analysis steps for the STA130 course project that are feasible at the current stage of the course \n",
    "\n",
    "<br>\n",
    "<details class=\"details-example\"><summary style=\"color:blue\"><u>Ethical Professionalism Considerations</u></summary>\n",
    "\n",
    "### Ethical Professionalism Considerations\n",
    "    \n",
    "1. What is the difference between reporting a sample statistic (say, from the Canadian Social Connection Survey) as opposed to the a population parameter (chacterizing the population of the Canadians the Canadian Social Connection Survey samples)?\n",
    "2. Why should bootsrapping (and confidence intervals in particular) be utilized when reporting sample statistics (say, from the Canadian Social Connection Survey)?\n",
    "3. How does bootsrapping (and confidence intervals in particular) help us relate the data we have to all Canadians? \n",
    "4. Is the population that the Canadian Social Connection Survey samples really actually all Canadians? Or is it biased in some way? \n",
    "5. Why are the previous questions \"Ethical\" and \"Professional\" in nature?\n",
    "6. If the Canadian Social Connection Survey samples Canadians in some sort of biased way, how could we begin considering if the results can generalize to all Canadians; or, perhaps, the degree to which the results could generalize to all Canadians?\n",
    "</details>    \n",
    "\n",
    "<details class=\"details-example\"><summary style=\"color:blue\"><u>Current Course Project Capability Level</u></summary>\n",
    "\n",
    "### Current Course Project Capability Level\n",
    "    \n",
    "**Remember to abide by the [data use agreement](https://static1.squarespace.com/static/60283c2e174c122f8ebe0f39/t/6239c284d610f76fed5a2e69/1647952517436/Data+Use+Agreement+for+the+Canadian+Social+Connection+Survey.pdf) at all times.**\n",
    "\n",
    "Information about the course project is available on the course github repo [here](https://github.com/pointOfive/stat130chat130/tree/main/CP), including a draft [course project specfication](https://github.com/pointOfive/stat130chat130/blob/main/CP/STA130F23_course_project_specification.ipynb) (subject to change). \n",
    "- The Week 01 HW introduced [STA130F24_CourseProject.ipynb](https://github.com/pointOfive/stat130chat130/blob/main/CP/STA130F24_CourseProject.ipynb), and the [available variables](https://drive.google.com/file/d/1ISVymGn-WR1lcRs4psIym2N3or5onNBi/view). \n",
    "- Please do not download the [data](https://drive.google.com/file/d/1mbUQlMTrNYA7Ly5eImVRBn16Ehy9Lggo/view) accessible at the bottom of the [CSCS](https://casch.org/cscs) webpage (or the course github repo) multiple times.\n",
    "\n",
    "> ### NEW DEVELOPMENT<br>New Abilities Achieved and New Levels Unlocked!!!    \n",
    "> **As noted, the Week 01 HW introduced the [STA130F24_CourseProject.ipynb](https://github.com/pointOfive/stat130chat130/blob/main/CP/STA130F24_CourseProject.ipynb) notebook.** _And there it instructed students to explore the notebook through the first 16 cells of the notebook._ The following cell in that notebook (there marked as \"run cell 17\") is preceded by an introductory section titled, \"**Now for some comparisons...**\", _**and all material from that point on provides an example to allow you to start applying what you're learning about bootstrapped confidence intervals\\* to the CSCS data**_ as now suggested next below.\n",
    ">\n",
    "> - **\\*** The code comment in \"Run cell 20\" stating, \"This could be used for the proportion of a paired differences test...\" refers to *Hypothesis Testing* material that will be introduced in Week 05 as opposed to the *bootstrapped confidence intervals* material introduced in Week 04.\n",
    "> - Regardless of this, the columns in the `dataV2_cohortV4_wideV2` pandas DataFrame can be considered with respect to the *bootstrapped confidence intervals* methodology of Week 04 (and consideration of the the subsequent cells from \"Run cell 20\" and on can be postponed until Week 05). \n",
    "\n",
    "At this point in the course you should be able to compute a bootstrap confidence interval for the (candian) population mean of a numeric variable of the sample of the Canadian Social Connection Survey. On the basis of only using the techniques we've encountered in the course so far, it would only be possible to assess a null hypothesis of \"no effect\" if we had \"paired\" (e.g., \"before and after\") measurements in our data; but, we could of course assess a hypothesized parameter value estimated by the bootstrapped confidence interval of a relevant sample statistic...\n",
    "    \n",
    "1. What are the different samples and populations that are part of the data related to the Canadian Social Connection Survey?\n",
    "    \n",
    "2. Consider whether or not we have \"paired\" (e.g., \"before and after\") measurements in our data which could be used to assess a null hypothesis of \"no effect\" (in the manner of the \"Pre-lecture\" HW video above); and, if such data is available, create a confidence interval for the average sample difference and use it to assess a null hypothesis of \"no effect\".\n",
    "    \n",
    "3. Pick a couple numeric variables from the Canadian Social Connection Survey with different amounts of non-missing data and create a 95% bootstrapped confidence intervals estimating population parameters for the variables.  \n",
    "    1. You would not want to do this by hand [why?]; but, could you nonetheless describe how this process would be done if you were to do it by hand? \n",
    "\n",
    "    2. [For Advanced Students Only] There are two factors that go into the uncertainty of sample means: the standard deviation of the original sample and the size of the sample (and they create a standard error of the mean that is theoretically \"the standard deviation of the original sample divided by the square root of n\").  Compute the theoretical standard errors of the sample mean for the different variables you've considered; and, if they're different, confirm that they influence the (variance/uncertainty) bootstrapped sampling distribution of the mean as expected\n",
    "\n",
    "</details>            "
   ]
  }
 ],
 "metadata": {
  "celltoolbar": "Slideshow",
  "colab": {
   "provenance": []
  },
  "kernelspec": {
   "display_name": "Python 3 (ipykernel)",
   "language": "python",
   "name": "python3"
  },
  "language_info": {
   "codemirror_mode": {
    "name": "ipython",
    "version": 3
   },
   "file_extension": ".py",
   "mimetype": "text/x-python",
   "name": "python",
   "nbconvert_exporter": "python",
   "pygments_lexer": "ipython3",
   "version": "3.11.6"
  }
 },
 "nbformat": 4,
 "nbformat_minor": 1
}
