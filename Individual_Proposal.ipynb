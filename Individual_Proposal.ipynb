{
 "cells": [
  {
   "cell_type": "markdown",
   "id": "33689073",
   "metadata": {},
   "source": [
    "# STA 130 Individual Course Project Proposal by Yiheng Wu\n",
    "\n",
    "# 1. Research Question\n",
    "\n",
    "Is there a significant relationship between life satisfaction and loneliness levels among individuals? Specifically, I want to determine if individuals with higher life satisfaction scores have lower loneliness levels, as measured by various loneliness sub-scales. This question will help us understand the potential link between overall well-being and perceived loneliness, and explore how improving one’s life satisfaction might reduce loneliness.\n",
    "\n",
    "# 2. Variables and Exploration Plan\n",
    "\n",
    "Variables:\n",
    "\n",
    "\n",
    "1. WELLNESS_life_satisfaction: A continuous variable representing the overall life satisfaction of the individuals.\n",
    "\n",
    "2. LONELY_ucla_loneliness_scale_score: A continuous variable representing the loneliness level of individuals based on the UCLA Loneliness Scale.\n",
    "\n",
    "3. LONELY_dejong_social_loneliness_sub_scale_score: A continuous variable representing social loneliness as measured by the De Jong Gierveld scale.\n",
    "\n",
    "To explore these variables, I will perform summary statistics and visualizations to better understand the relationships. I plan to use:\n",
    "\n",
    "1. Scatter Plot: To illustrate the relationship between life satisfaction and loneliness levels, I will create scatter plots for each pair of variables. This will help visually depict if there is a negative correlation between life satisfaction and loneliness, which would be represented by a downward trend in the scatter plot.\n",
    "\n",
    "2. Histogram: I will use histograms to show the distribution of life satisfaction scores and loneliness scores separately, allowing us to see the overall spread, shape, and central tendencies of each variable. This will help in understanding whether the data is skewed and the typical values for each variable.\n",
    "\n",
    "3. Correlation Matrix: I will use a correlation matrix to calculate the Pearson correlation coefficients between the different variables. This will help determine the strength and direction of the relationships among the variables, providing quantitative support for visual insights from the scatter plots.\n",
    "\n",
    "# 3. Analysis Plan\n",
    "\n",
    "To answer the research question, I plan to use the following analysis methods, with detailed steps provided for clarity:\n",
    "\n",
    "1. One-sample Hypothesis Test\n",
    "\n",
    "Objective: To determine if the average life satisfaction score significantly differs from a specified value (e.g., the midpoint of the scale, indicating average satisfaction).\n",
    "\n",
    "Method: I will use bootstrapping to create a confidence interval for the mean of the WELLNESS_life_satisfaction variable.\n",
    "\n",
    "Steps:\n",
    "\n",
    "1. Calculate the sample mean of WELLNESS_life_satisfaction.\n",
    "\n",
    "2. Generate 1,000 bootstrap samples from the original dataset, each of the same size as the original sample, using replacement.\n",
    "\n",
    "3. Compute the mean of each bootstrap sample and generate a distribution of bootstrap means.\n",
    "\n",
    "4. Calculate the 95% confidence interval for the bootstrap distribution.\n",
    "\n",
    "5. Compare the confidence interval to the hypothesized value.\n",
    "\n",
    "Code:"
   ]
  },
  {
   "cell_type": "code",
   "execution_count": null,
   "id": "d82c6a01",
   "metadata": {},
   "outputs": [],
   "source": [
    "import numpy as np\n",
    "import pandas as pd\n",
    "\n",
    "# Bootstrap Confidence Interval for Life Satisfaction\n",
    "np.random.seed(42)\n",
    "life_satisfaction = data['WELLNESS_life_satisfaction'].dropna()\n",
    "sample_mean = life_satisfaction.mean()\n",
    "boot_means = []\n",
    "\n",
    "for _ in range(1000):\n",
    "    boot_sample = life_satisfaction.sample(len(life_satisfaction), replace=True)\n",
    "    boot_means.append(boot_sample.mean())\n",
    "\n",
    "lower_ci, upper_ci = np.percentile(boot_means, [2.5, 97.5])\n",
    "print(f\"95% Confidence Interval: ({lower_ci}, {upper_ci})\")"
   ]
  },
  {
   "cell_type": "markdown",
   "id": "7c834a66",
   "metadata": {},
   "source": [
    "2. Two-sample Hypothesis Test\n",
    "\n",
    "Objective: To determine if there is a significant difference in loneliness scores between individuals with high and low life satisfaction.\n",
    "\n",
    "Method: I will create two groups based on life satisfaction scores (e.g., split at the median value) and conduct a two-sample t-test to assess differences in LONELY_ucla_loneliness_scale_score.\n",
    "\n",
    "Steps:\n",
    "\n",
    "1. Split the sample into two groups: high life satisfaction (above median) and low life satisfaction (below median).\n",
    "\n",
    "2. Calculate the mean loneliness score for each group.\n",
    "\n",
    "3. Use a two-sample t-test to compare the means of the two groups.\n",
    "\n",
    "Code:"
   ]
  },
  {
   "cell_type": "code",
   "execution_count": null,
   "id": "1eb205f7",
   "metadata": {},
   "outputs": [],
   "source": [
    "from scipy.stats import ttest_ind\n",
    "\n",
    "# Split data into high and low life satisfaction groups\n",
    "median_satisfaction = life_satisfaction.median()\n",
    "high_satisfaction = data[data['WELLNESS_life_satisfaction'] > median_satisfaction]['LONELY_ucla_loneliness_scale_score'].dropna()\n",
    "low_satisfaction = data[data['WELLNESS_life_satisfaction'] <= median_satisfaction]['LONELY_ucla_loneliness_scale_score'].dropna()\n",
    "\n",
    "# Two-sample t-test\n",
    "t_stat, p_value = ttest_ind(high_satisfaction, low_satisfaction)\n",
    "print(f\"t-statistic: {t_stat}, p-value: {p_value}\")"
   ]
  },
  {
   "cell_type": "markdown",
   "id": "e8d202fe",
   "metadata": {},
   "source": [
    "3. Simple Linear Regression\n",
    "\n",
    "Objective: To explore the relationship between WELLNESS_life_satisfaction and LONELY_dejong_social_loneliness_sub_scale_score and determine if higher life satisfaction is associated with lower social loneliness.\n",
    "\n",
    "Method: I will fit a simple linear regression model to predict loneliness using life satisfaction as the predictor variable.\n",
    "\n",
    "Steps:\n",
    "\n",
    "1. Define WELLNESS_life_satisfaction as the independent variable (X) and LONELY_dejong_social_loneliness_sub_scale_score as the dependent variable (Y).\n",
    "\n",
    "2. Fit a linear regression model and interpret the coefficient to determine if the relationship is positive or negative.\n",
    "\n",
    "Code:"
   ]
  },
  {
   "cell_type": "code",
   "execution_count": null,
   "id": "5067960c",
   "metadata": {},
   "outputs": [],
   "source": [
    "import statsmodels.api as sm\n",
    "\n",
    "# Prepare data for linear regression\n",
    "X = data['WELLNESS_life_satisfaction'].dropna()\n",
    "Y = data['LONELY_dejong_social_loneliness_sub_scale_score'].dropna()\n",
    "X = sm.add_constant(X)  # Add constant term for intercept\n",
    "\n",
    "# Fit the regression model\n",
    "model = sm.OLS(Y, X).fit()\n",
    "print(model.summary())"
   ]
  },
  {
   "cell_type": "markdown",
   "id": "cd20342a",
   "metadata": {},
   "source": [
    "# 4. Hypotheses and Expected Results\n",
    "\n",
    "Null Hypothesis (H0): There is no significant relationship between life satisfaction and loneliness levels.\n",
    "\n",
    "Alternative Hypothesis (H1): There is a significant negative relationship between life satisfaction and loneliness levels.\n",
    "\n",
    "I expect to find that individuals with higher life satisfaction have lower loneliness scores, indicating a negative correlation between these variables. The expected results are:\n",
    "\n",
    "1. A 95% confidence interval that does not include the hypothesized value would indicate that the mean life satisfaction is significantly different from the assumed value.\n",
    "\n",
    "2. A significant p-value from the two-sample t-test would suggest that loneliness differs significantly between high and low life satisfaction groups.\n",
    "\n",
    "3. A negative coefficient in the linear regression would indicate that higher life satisfaction predicts lower loneliness scores.\n",
    "\n",
    "These results would highlight the importance of life satisfaction in reducing feelings of loneliness and improving overall well-being."
   ]
  },
  {
   "cell_type": "markdown",
   "id": "254039c4",
   "metadata": {},
   "source": [
    "# 5. Group Preferences\n",
    "\n",
    "I have recently switched to this TUT session and am not yet familiar with the classmates around me. My only preference for forming a group is that my teammates are native Mandarin speakers, as it will facilitate smoother communication for us. Thank you very much for your consideration."
   ]
  }
 ],
 "metadata": {
  "kernelspec": {
   "display_name": "Python 3 (ipykernel)",
   "language": "python",
   "name": "python3"
  },
  "language_info": {
   "codemirror_mode": {
    "name": "ipython",
    "version": 3
   },
   "file_extension": ".py",
   "mimetype": "text/x-python",
   "name": "python",
   "nbconvert_exporter": "python",
   "pygments_lexer": "ipython3",
   "version": "3.11.6"
  }
 },
 "nbformat": 4,
 "nbformat_minor": 5
}
